{
 "cells": [
  {
   "cell_type": "markdown",
   "metadata": {},
   "source": [
    "# Schumann Resonances Example Notebook\n",
    "\n",
    "This notebook is our summary of schumann resonances calculations in an interactive format.  The idea is to create a notebook with interactive features for calculating various things related to oscillations in the ion cloud surrounding the earth.  \n",
    "\n",
    "We are trying to assess the viablity of launching low cost tube-sats into low earth orbit to measure the low frequency oscillations and slow DC drift of the earth's magnetic field.  The idea of this project is to develop a case for launch in stages by calculating some back-of-the-envelope numbers to figure out what kind of mission requirments are possible and whether such a mission is useful to science and value for money.  \n",
    "\n",
    "--------\n",
    "| Author | Brittany Kamai and Andrew Wade |\n",
    "| :---- | ------|\n",
    "| Date | 7 March 2018 | \n",
    "| Contact | bkamai (at) ligo.caltech.edu and/or awade (at) ligo.caltech.edu|\n",
    "| Evernote entry | [XYZ:1234](https://nodus.ligo.caltech.edu:8081/ATF/1234) |\n"
   ]
  },
  {
   "cell_type": "code",
   "execution_count": null,
   "metadata": {
    "run_control": {
     "frozen": false,
     "read_only": false
    }
   },
   "outputs": [],
   "source": [
    "from __future__ import division\n",
    "from IPython.display import clear_output\n",
    "\n",
    "#Arrays, Plotting, system\n",
    "import numpy as np\n",
    "import pandas as pd\n",
    "\n",
    "import matplotlib as mpl\n",
    "import matplotlib.patches as patches\n",
    "import matplotlib.pyplot as plt\n",
    "\n",
    "import scipy.constants as scc\n",
    "\n",
    "colormap = mpl.cm.Dark2.colors   # Qualitative colormap\n",
    "\n",
    "plt.rc(\"savefig\", dpi=200)\n",
    "\n",
    "%matplotlib inline\n",
    "%config InlineBackend.figure_format = 'png'\n",
    "\n",
    "# Now alter my matplotlib standard parameters\n",
    "plt.rcParams.update({'axes.grid': True,\n",
    "                     'font.family': 'serif',\n",
    "                     'font.size': 16,\n",
    "                     'grid.color': 'k',\n",
    "                     'grid.linestyle': '-',\n",
    "                     'grid.alpha': 0.2,\n",
    "                     'grid.linewidth': 1,\n",
    "                     'legend.borderpad': 0.2,\n",
    "                     'legend.fancybox': True,\n",
    "                     'legend.fontsize': 14,\n",
    "                     'legend.framealpha': 0.7,\n",
    "                     'legend.handletextpad': 0.1,\n",
    "                     'legend.labelspacing': 0.2,\n",
    "                     'legend.loc': 'best',\n",
    "                     'lines.linewidth': 1.5,\n",
    "                     'savefig.bbox': 'tight',\n",
    "                     'savefig.pad_inches': 0.02,\n",
    "                     'text.usetex': True,\n",
    "                     'text.latex.preamble': r'\\usepackage{txfonts}'\n",
    "                     })"
   ]
  },
  {
   "cell_type": "code",
   "execution_count": null,
   "metadata": {},
   "outputs": [],
   "source": [
    "# Standard useful functions\n",
    "def mag2db(arr):\n",
    "    return 20*np.log10(arr)"
   ]
  },
  {
   "cell_type": "code",
   "execution_count": null,
   "metadata": {},
   "outputs": [],
   "source": [
    "plt.rcParams.update({'font.size': 16})  # force font size on first go"
   ]
  },
  {
   "cell_type": "code",
   "execution_count": null,
   "metadata": {},
   "outputs": [],
   "source": [
    "# Import widget tools\n",
    "from ipywidgets import interact, interactive, fixed, interact_manual\n",
    "import ipywidgets as widgets"
   ]
  },
  {
   "cell_type": "code",
   "execution_count": null,
   "metadata": {},
   "outputs": [],
   "source": [
    "# EXAMPLE: easiest widgets use the interact decorator directly on a function\n",
    "@interact(k=widgets.FloatSlider(value=4.0e0,\n",
    "                                  min=0.,\n",
    "                                  max=15.,\n",
    "                                  step=0.1,\n",
    "                                  description=\"k\",\n",
    "                                  continuous_update=False))\n",
    "def sinPlotx(k):\n",
    "    x = np.linspace(0., 10., 1000)\n",
    "    y = np.sin(k * x)\n",
    "    plt.plot(x, y)"
   ]
  },
  {
   "cell_type": "markdown",
   "metadata": {},
   "source": [
    "## Basic resonances of the Earth's ionosphere\n",
    "Schumann resonances are global electromagnetic resonances of the cavity formed by ions in the upper atmosphere. They form an enormous cavity with a very low frequency of oscillation.  To first order the frequencies of the lowest n modes are given by \n",
    "\n",
    "$$ f_n = \\frac{c}{2\\pi a}\\sqrt{n(n+1)} $$\n",
    "\n",
    "where $f_n$ is the frequency of the mode, $c$ is the speed of light, and a is the earth's radius. \n",
    "\n",
    "The above equation is a highly idealized model.  In realtiy the waveguide formed by the ionosphere around the earth is lossy (dragging the real frequency lower) and has a very broad resonance peak at each frequency.  Also, the earth is not round with $\\pm$11 km from equator to poles, changes in the height of the ionosphere due to day-to-night temperature changes, interactions with the static magnetic field and asymmetric absorption at the poles.  We'll get into the details of all these effects later. For now, here is an interactive widget for computing all the frequencies:"
   ]
  },
  {
   "cell_type": "code",
   "execution_count": null,
   "metadata": {},
   "outputs": [],
   "source": [
    "# EXAMPLE: easiest widgets use the interact decorator directly on a function\n",
    "@interact(n=widgets.IntSlider(value=4.0e0,\n",
    "                                  min=1,\n",
    "                                  max=15,\n",
    "                                  step=1,\n",
    "                                  description=\"n-th mode Schumann resonance\",\n",
    "                                  continuous_update=True))\n",
    "def idealSchumannResonance(n):\n",
    "    ''' Function for computing the ideal Schumann resonances \n",
    "        based on spherical waveguided resonator about a thin shell'''\n",
    "    \n",
    "    # Some physical constants\n",
    "    c = 2.997924580e8\n",
    "    earthRadius_pole = 6356.7523e3\n",
    "    earthRadius_equator = 6378.1370e3\n",
    "    a = (earthRadius_pole + earthRadius_equator) * 0.5  # Mean earth radius (first order estimate)\n",
    "    \n",
    "    f_n = c / (2 * np.pi * a) * (n * (n + 1)) ** 0.5\n",
    "    print(\"Frequency of the nth mode is {fn:3.2f} Hz\".format(fn=f_n))"
   ]
  }
 ],
 "metadata": {
  "kernelspec": {
   "display_name": "Python3.6 (python3.6)",
   "language": "python",
   "name": "python3.6"
  },
  "language_info": {
   "codemirror_mode": {
    "name": "ipython",
    "version": 3
   },
   "file_extension": ".py",
   "mimetype": "text/x-python",
   "name": "python",
   "nbconvert_exporter": "python",
   "pygments_lexer": "ipython3",
   "version": "3.6.7"
  }
 },
 "nbformat": 4,
 "nbformat_minor": 2
}
